{
 "cells": [
  {
   "cell_type": "markdown",
   "metadata": {
    "id": "ztPv6Kb-ILDp"
   },
   "source": [
    "# Анализ результатов А/B-тестирования сайта пекарни\n",
    "\n",
    "Мы хотим усилить визуальный контент на нашем сайте. Есть идея, что если мы добавим видео производства наших изделий, то пользователь будет принимать решение о покупке охотнее и быстрее, и конверсия в заказ вырастет. \n",
    "\n",
    "__Продакт вернул нам такой дизайн эксперимента:__\n",
    "\n",
    "*1. `Бизнес-проблема:`* мы считаем, что конверсии из визита в покупку в нашей пекарне недостаточно высоки. Мы посмотрели на страницы конкурентов и поняли, что у нас есть возможность увеличить объем продаж, если мы изменим дизайн страницы с каталогом продукции.\n",
    "\n",
    "*2. `Гипотеза:`* предполагается, что добавление видео с процессом приготовления вкусностей мотивирует к их покупке и позволяет добиться двух эффектов:\n",
    "   * повышение конверсии из визита в оплату (больше людей захотят купить нашу продукцию)\n",
    "   * как минимум, не снижение среднего чека покупки, а в идеале — увеличение\n",
    "    \n",
    "*3. `Ожидаемые действия пользователей:`* мы ожидаем, что, увидев видео с процессом приготовления вкусностей вместе с описанием продукции, больше людей захотят сделать покупку, а возможно — в среднем будут покупать больше продукции в одном заказе.\n",
    "\n",
    "*4. `Эксперимент будет считаться успешным, если:`*\n",
    "   * конверсия из визита в покупку с окном в 7 дней повысится\n",
    "   * средний чек покупки не снизится\n",
    "\n",
    "\n",
    "## Что нужно сделать?\n",
    "\n",
    "Проанализировать данные теста и дать свои комментарии о его успешности. Можно ли выкатывать изменение на всех пользователей?\n",
    "\n",
    "1. Выбрать окно конверсии\n",
    "2. Исследовать распределение пользователей по группам по основным сегментам\n",
    "3. Оценить статистическую значимость в изменении конверсии с помощью критерия хи-квадрат\n",
    "4. Вычислить мощность теста\n",
    "5. Использовать бутстрап для оценки влияния теста на средний чек\n",
    "6. Сделать вывод по результатам проведенного теста"
   ]
  },
  {
   "cell_type": "code",
   "execution_count": null,
   "metadata": {},
   "outputs": [],
   "source": [
    "import pandas as pd\n",
    "import numpy as np\n",
    "import matplotlib.pyplot as plt\n",
    "import seaborn as sns"
   ]
  },
  {
   "cell_type": "markdown",
   "metadata": {
    "id": "hppSG_9JbL0s"
   },
   "source": [
    "## Задание 1. Выбор окна конверсии на основе исторических данных"
   ]
  },
  {
   "cell_type": "markdown",
   "metadata": {},
   "source": [
    "**1. Подлючаемся к историческим данным.**"
   ]
  },
  {
   "cell_type": "code",
   "execution_count": null,
   "metadata": {
    "id": "bZRgs094bL0v"
   },
   "outputs": [],
   "source": [
    "historical_data = pd.read_csv('investigate_window.csv', parse_dates = [2,3], index_col = 0)\n",
    "\n",
    "historical_data.head()"
   ]
  },
  {
   "cell_type": "code",
   "execution_count": null,
   "metadata": {
    "id": "Xef2_8M4bL0z",
    "outputId": "e7204528-c53d-4ddc-8149-27040c3f23ed"
   },
   "outputs": [],
   "source": [
    "historical_data.dtypes"
   ]
  },
  {
   "cell_type": "markdown",
   "metadata": {
    "id": "olR8gTUvbL00"
   },
   "source": [
    "**2. Вычисляем, какой перцентиль соответствует недельному окну конверсии.**"
   ]
  },
  {
   "cell_type": "code",
   "execution_count": null,
   "metadata": {},
   "outputs": [],
   "source": [
    "np.percentile(historical_data['time_to_order'], 95)"
   ]
  },
  {
   "cell_type": "code",
   "execution_count": null,
   "metadata": {},
   "outputs": [],
   "source": [
    "np.percentile(historical_data['time_to_order'], 90)"
   ]
  },
  {
   "cell_type": "code",
   "execution_count": null,
   "metadata": {},
   "outputs": [],
   "source": [
    "np.percentile(historical_data['time_to_order'], 85)"
   ]
  },
  {
   "cell_type": "code",
   "execution_count": null,
   "metadata": {},
   "outputs": [],
   "source": [
    "# недельное окно конверсии\n",
    "\n",
    "perc_95 = round(np.percentile(historical_data['time_to_order'], 95), 1)"
   ]
  },
  {
   "cell_type": "markdown",
   "metadata": {
    "id": "SRawyRWsbL02"
   },
   "source": [
    "**3. Строим гистограмму распределения времени между первым заходом на сайт и покупкой.**"
   ]
  },
  {
   "cell_type": "code",
   "execution_count": null,
   "metadata": {},
   "outputs": [],
   "source": [
    "plt.figure(figsize=(16,9))\n",
    "\n",
    "plt.hist(historical_data['time_to_order'], bins = 40)\n",
    "\n",
    "plt.axvline(perc_95,\n",
    "            ymin=0,\n",
    "            ymax=0.7,\n",
    "            color='k',\n",
    "            linestyle='dashed',\n",
    "            label=f'95-ый перцентиль – {perc_95} дня'\n",
    "            )\n",
    "\n",
    "plt.title('Распределение времени между первым заходом на сайт и покупкой')\n",
    "plt.xlabel('Количество дней')\n",
    "plt.ylabel('Количество пользователей')\n",
    "\n",
    "plt.legend()\n",
    "\n",
    "plt.show()"
   ]
  },
  {
   "cell_type": "markdown",
   "metadata": {},
   "source": [
    "**4. Делаем вывод об окне конверсии.**\n",
    "\n",
    "Недельному окну конверсии соответствует 95-й процентиль распределения времени между первым заходом на сайт и покупкой."
   ]
  },
  {
   "cell_type": "markdown",
   "metadata": {
    "id": "3nsIxdYObL03"
   },
   "source": [
    "## Задание 2. Исследование распределения пользователей по группам по основным сегментам "
   ]
  },
  {
   "cell_type": "markdown",
   "metadata": {},
   "source": [
    "**1. Подключаемся к данным A/B теста.**"
   ]
  },
  {
   "cell_type": "code",
   "execution_count": null,
   "metadata": {
    "id": "-l6Y90j6bL03"
   },
   "outputs": [],
   "source": [
    "data = pd.read_csv('bakery_ab_test.csv', index_col = 0)\n",
    "\n",
    "data.head()"
   ]
  },
  {
   "cell_type": "markdown",
   "metadata": {
    "id": "BySl6id7bL04"
   },
   "source": [
    "**2. Создаем функцию plot_segment_distribution, чтобы проверить распределение пользователей по сегментам внутри каждой группы.**"
   ]
  },
  {
   "cell_type": "code",
   "execution_count": null,
   "metadata": {
    "id": "XJowVpQjbL04"
   },
   "outputs": [],
   "source": [
    "def plot_segment_distribution(df, segment_columns, test_factor):\n",
    "    for segment in segment_columns:\n",
    "        aggregated_data = df.groupby(by = [test_factor, segment])['user_id'].count().reset_index()\n",
    "        sns.catplot(x = segment, \n",
    "                    y = 'user_id', \n",
    "                    hue = test_factor, # разный цвет для групп\n",
    "                    data = aggregated_data, \n",
    "                    kind = \"bar\", \n",
    "                    height = 4, # размер графика \n",
    "                    aspect = 1.5) # ширина столбца"
   ]
  },
  {
   "cell_type": "markdown",
   "metadata": {
    "id": "_miaIvPmbL05"
   },
   "source": [
    "**3. Строим графики при помощи созданной функции.**"
   ]
  },
  {
   "cell_type": "code",
   "execution_count": null,
   "metadata": {
    "id": "0e90OJ0YbL05"
   },
   "outputs": [],
   "source": [
    "plot_segment_distribution(data, \n",
    "                          [\"geo_group\", \"acquisition_channel\", \"platform\"],\n",
    "                          \"test_group\")"
   ]
  },
  {
   "cell_type": "markdown",
   "metadata": {},
   "source": [
    "**4. Делаем вывод о качестве сплитования.**\n",
    "\n",
    "В рамках сегментов `geo_group` и `acquisition_channel` группы распределены равномерно, в рамках сегмента `platform` распределение неравномерное."
   ]
  },
  {
   "cell_type": "markdown",
   "metadata": {
    "id": "8jAA6GdHbL05"
   },
   "source": [
    "## Задание 3. Критерий Хи-квадрат для конверсии\n"
   ]
  },
  {
   "cell_type": "markdown",
   "metadata": {
    "id": "ixJWxL_JbL06"
   },
   "source": [
    "Мы не можем исправить данные, но можем проанализировать общие результаты и сравнить их с результатами для пользователей, зашедших с разных платформ, чтобы уменьшить риск принятия ошибочного решения. Поэтому дальше мы будем анализировать параллельно 3 теста:\n",
    "\n",
    "1. Все пользователи, попавшие в тест\n",
    "2. Пользователи, заходившие с ПК `platform = 'pc'`\n",
    "3. Пользователи, заходившие с мобильного `platform = 'mobile'`"
   ]
  },
  {
   "cell_type": "markdown",
   "metadata": {
    "id": "x2DlXIbDbL07"
   },
   "source": [
    "**1. Создаем для каждой из 3 групп теста отдельную таблицу с метриками.**"
   ]
  },
  {
   "cell_type": "code",
   "execution_count": null,
   "metadata": {
    "id": "yicAUBtnbL07"
   },
   "outputs": [],
   "source": [
    "metrics = data.groupby('test_group', as_index= False)\\\n",
    "    .agg({'user_id': 'count', 'within_window': 'sum', 'purchase_amount': 'mean'}).reset_index()\n",
    "metrics['conversion'] = round(100 * metrics['within_window'] / metrics['user_id'], 2)\n",
    "metrics"
   ]
  },
  {
   "cell_type": "code",
   "execution_count": null,
   "metadata": {
    "id": "dAdU8YspbL07"
   },
   "outputs": [],
   "source": [
    "metrics_pc = data.loc[data['platform'] == 'pc'].groupby('test_group', as_index= False)\\\n",
    "    .agg({'user_id': 'count', 'within_window': 'sum', 'purchase_amount': 'mean'}).reset_index()\n",
    "metrics_pc['conversion'] = round(100 * metrics_pc['within_window'] / metrics_pc['user_id'], 2)\n",
    "metrics_pc"
   ]
  },
  {
   "cell_type": "code",
   "execution_count": null,
   "metadata": {
    "id": "j1bGG9yrbL08"
   },
   "outputs": [],
   "source": [
    "metrics_mobile = data.loc[data['platform'] == 'mobile'].groupby('test_group', as_index= False)\\\n",
    "    .agg({'user_id': 'count', 'within_window': 'sum', 'purchase_amount': 'mean'}).reset_index()\n",
    "metrics_mobile['conversion'] = round(100 * metrics_mobile['within_window'] / metrics_mobile['user_id'], 2)\n",
    "metrics_mobile"
   ]
  },
  {
   "cell_type": "markdown",
   "metadata": {
    "id": "CqMnSwzvbL08"
   },
   "source": [
    "**2. Вычисляем p-value для каждой группы с помощью теста хи-квадрат.**"
   ]
  },
  {
   "cell_type": "code",
   "execution_count": null,
   "metadata": {},
   "outputs": [],
   "source": [
    "import statsmodels.stats.proportion as proportion"
   ]
  },
  {
   "cell_type": "code",
   "execution_count": null,
   "metadata": {
    "id": "Q5J-6Z54bL08"
   },
   "outputs": [],
   "source": [
    "chi2stat, pval, table = proportion.proportions_chisquare(metrics['within_window'], metrics['user_id'])\n",
    "\n",
    "chi2stat_pc, pval_pc, table_pc = proportion.proportions_chisquare(metrics_pc['within_window'], metrics_pc['user_id'])\n",
    "\n",
    "chi2stat_mobile, pval_mobile, table_mobile = proportion.proportions_chisquare(metrics_mobile['within_window'], metrics_mobile['user_id'])"
   ]
  },
  {
   "cell_type": "markdown",
   "metadata": {
    "id": "cbSeqgLkbL0_"
   },
   "source": [
    "**3. Вводим в анализ уровень значимости в 5% с помощью переменной alpha.**"
   ]
  },
  {
   "cell_type": "code",
   "execution_count": null,
   "metadata": {
    "id": "YRT0d5F4bL0_"
   },
   "outputs": [],
   "source": [
    "alpha = 0.05"
   ]
  },
  {
   "cell_type": "code",
   "execution_count": null,
   "metadata": {},
   "outputs": [],
   "source": [
    "pval < alpha"
   ]
  },
  {
   "cell_type": "code",
   "execution_count": null,
   "metadata": {},
   "outputs": [],
   "source": [
    "pval_pc < alpha"
   ]
  },
  {
   "cell_type": "code",
   "execution_count": null,
   "metadata": {},
   "outputs": [],
   "source": [
    "pval_mobile < alpha"
   ]
  },
  {
   "cell_type": "markdown",
   "metadata": {},
   "source": [
    "**4. Делаем вывод о наличии статистически значимой разницы в каждой группе.**\n",
    "\n",
    "P-value во всех трех группах меньше заданного значения уровня значимости, поэтому мы принимаем нулевую гипотезу о том, что различий в конверсии нет (при условии достаточной мощности)."
   ]
  },
  {
   "cell_type": "markdown",
   "metadata": {
    "id": "aTrhi9zfbL1B"
   },
   "source": [
    "## Задание 4. Вычисление мощности теста"
   ]
  },
  {
   "cell_type": "markdown",
   "metadata": {},
   "source": [
    "**1. Записываем значения конверсии в тестовой и контрольной группе в разные переменные.**"
   ]
  },
  {
   "cell_type": "code",
   "execution_count": null,
   "metadata": {},
   "outputs": [],
   "source": [
    "conversion_control = metrics['conversion'].values[0]/100\n",
    "conversion_test = metrics['conversion'].values[1]/100"
   ]
  },
  {
   "cell_type": "code",
   "execution_count": null,
   "metadata": {},
   "outputs": [],
   "source": [
    "conversion_control_pc = metrics_pc['conversion'].values[0]/100\n",
    "conversion_test_pc = metrics_pc['conversion'].values[1]/100"
   ]
  },
  {
   "cell_type": "code",
   "execution_count": null,
   "metadata": {},
   "outputs": [],
   "source": [
    "conversion_control_mobile = metrics_mobile['conversion'].values[0]/100\n",
    "conversion_test_mobile = metrics_mobile['conversion'].values[1]/100"
   ]
  },
  {
   "cell_type": "markdown",
   "metadata": {
    "id": "DNxX0FxlbL1I"
   },
   "source": [
    "**2. Создаем переменную nobs для количества наблюдений и записываем в нее значение меньшей группы.**"
   ]
  },
  {
   "cell_type": "code",
   "execution_count": null,
   "metadata": {
    "id": "3Pk5F428bL1J"
   },
   "outputs": [],
   "source": [
    "nobs = min(metrics['user_id'])"
   ]
  },
  {
   "cell_type": "code",
   "execution_count": null,
   "metadata": {
    "id": "uCdz925obL1K"
   },
   "outputs": [],
   "source": [
    "nobs_pc = min(metrics_pc['user_id'])"
   ]
  },
  {
   "cell_type": "code",
   "execution_count": null,
   "metadata": {
    "id": "GvXJIApvbL1K"
   },
   "outputs": [],
   "source": [
    "nobs_mobile = min(metrics_mobile['user_id'])"
   ]
  },
  {
   "cell_type": "markdown",
   "metadata": {},
   "source": [
    "**3. Создаем функцию для того, чтобы посчитать, насколько одна группа эффективнее другой в исследуемой метрике.**"
   ]
  },
  {
   "cell_type": "code",
   "execution_count": null,
   "metadata": {
    "id": "oKd-pOhNbL1H"
   },
   "outputs": [],
   "source": [
    "def chi2_effect_size(p0, p1):\n",
    "    return np.sqrt(((p0 - p1)**2 / p0))"
   ]
  },
  {
   "cell_type": "markdown",
   "metadata": {
    "id": "_IYBUKzTbL1K"
   },
   "source": [
    "**4. Вычисляем мощность для каждой группы, для которой делали тест хи-квадрат.**"
   ]
  },
  {
   "cell_type": "code",
   "execution_count": null,
   "metadata": {},
   "outputs": [],
   "source": [
    "import statsmodels.stats.power as power"
   ]
  },
  {
   "cell_type": "code",
   "execution_count": null,
   "metadata": {
    "id": "-riu6DIdbL1C"
   },
   "outputs": [],
   "source": [
    "chipower = power.GofChisquarePower()"
   ]
  },
  {
   "cell_type": "code",
   "execution_count": null,
   "metadata": {
    "id": "iedF3DKybL1L"
   },
   "outputs": [],
   "source": [
    "power = chipower.solve_power(effect_size = chi2_effect_size(conversion_control, conversion_test), # разница коэффициентов конверсии\n",
    "                             nobs = nobs, # размер выборки\n",
    "                             alpha = pval, # значение ошибки первого рода\n",
    "                             power = None) # функция вернет значение, указаное как None\n",
    "power"
   ]
  },
  {
   "cell_type": "code",
   "execution_count": null,
   "metadata": {
    "id": "EkzdB9swbL1L"
   },
   "outputs": [],
   "source": [
    "pc_power = chipower.solve_power(effect_size = chi2_effect_size(conversion_control_pc, conversion_test_pc), # разница коэффициентов конверсии\n",
    "                                nobs = nobs_pc, # размер выборки\n",
    "                                alpha = pval_pc, # значение ошибки первого рода\n",
    "                                power = None) # функция вернет значение, указаное как None\n",
    "pc_power"
   ]
  },
  {
   "cell_type": "code",
   "execution_count": null,
   "metadata": {
    "id": "N5BqF4yYbL1L"
   },
   "outputs": [],
   "source": [
    "mobile_power = chipower.solve_power(effect_size = chi2_effect_size(conversion_control_mobile, conversion_test_mobile), # разница коэффициентов конверсии\n",
    "                                    nobs = nobs_mobile, # размер выборки\n",
    "                                    alpha = pval_mobile, # значение ошибки первого рода\n",
    "                                    power = None) # функция вернет значение, указаное как None\n",
    "mobile_power"
   ]
  },
  {
   "cell_type": "markdown",
   "metadata": {},
   "source": [
    "**5. Делаем вывод о величине мощности в каждой группе.**\n",
    "\n",
    "Мощность по всем пользователям больше 90%, в сегменте `'pc'` около 80%, в сегменте `'mobile'` гораздо ниже 80%, поэтому в случае последнего нельзя сделать достоверные выводы."
   ]
  },
  {
   "cell_type": "markdown",
   "metadata": {
    "id": "lYlqrjkLbL1M"
   },
   "source": [
    "## Задание 5. Использование бутстрапа для оценки влияния теста на средний чек"
   ]
  },
  {
   "cell_type": "markdown",
   "metadata": {},
   "source": [
    "**1. Записываем данные по суммам покупки в тестовой и контрольной группе в разные переменные.**"
   ]
  },
  {
   "cell_type": "code",
   "execution_count": null,
   "metadata": {
    "id": "Q4QY9KlEbL1O"
   },
   "outputs": [],
   "source": [
    "test = data[data['test_group'] == 'test']['purchase_amount'].dropna().values\n",
    "control = data[data['test_group'] == 'control']['purchase_amount'].dropna().values"
   ]
  },
  {
   "cell_type": "code",
   "execution_count": null,
   "metadata": {},
   "outputs": [],
   "source": [
    "test_pc = data[(data['test_group'] == 'test') & (data['platform'] == 'pc')]['purchase_amount'].dropna().values\n",
    "control_pc = data[(data['test_group'] == 'control') & (data['platform'] == 'pc')]['purchase_amount'].dropna().values"
   ]
  },
  {
   "cell_type": "code",
   "execution_count": null,
   "metadata": {},
   "outputs": [],
   "source": [
    "test_mobile = data[(data['test_group'] == 'test') & (data['platform'] == 'mobile')]['purchase_amount'].dropna().values\n",
    "control_mobile = data[(data['test_group'] == 'control') & (data['platform'] == 'mobile')]['purchase_amount'].dropna().values"
   ]
  },
  {
   "cell_type": "markdown",
   "metadata": {
    "id": "2kZnidOtbL1P"
   },
   "source": [
    "**2. Вызываем функцию bootstrap_ab для каждой из трех групп.**"
   ]
  },
  {
   "cell_type": "code",
   "execution_count": null,
   "metadata": {
    "id": "HiFX2R0DbL1O"
   },
   "outputs": [],
   "source": [
    "import bootstrapped.bootstrap as bs\n",
    "import bootstrapped.stats_functions as bs_stats\n",
    "import bootstrapped.compare_functions as bs_compare"
   ]
  },
  {
   "cell_type": "code",
   "execution_count": null,
   "metadata": {
    "id": "_3d_VHvpbL1P"
   },
   "outputs": [],
   "source": [
    "boot = bs.bootstrap_ab(test = test, \n",
    "                       ctrl = control,\n",
    "                       stat_func = bs_stats.mean,\n",
    "                       compare_func = bs_compare.difference,\n",
    "                       return_distribution=True)"
   ]
  },
  {
   "cell_type": "code",
   "execution_count": null,
   "metadata": {
    "id": "vfIIQjwVbL1Q"
   },
   "outputs": [],
   "source": [
    "boot_pc = bs.bootstrap_ab(test = test_pc, \n",
    "                          ctrl = control_pc,\n",
    "                          stat_func = bs_stats.mean,\n",
    "                          compare_func = bs_compare.difference,\n",
    "                          return_distribution=True)"
   ]
  },
  {
   "cell_type": "code",
   "execution_count": null,
   "metadata": {
    "id": "EvRqr4YmbL1R"
   },
   "outputs": [],
   "source": [
    "boot_mobile = bs.bootstrap_ab(test = test_mobile, \n",
    "                              ctrl = control_mobile,\n",
    "                              stat_func = bs_stats.mean,\n",
    "                              compare_func = bs_compare.difference,\n",
    "                              return_distribution=True)"
   ]
  },
  {
   "cell_type": "markdown",
   "metadata": {},
   "source": [
    "**3. Создаем функцию для визуализации результатов bootstrap теста.**"
   ]
  },
  {
   "cell_type": "code",
   "execution_count": null,
   "metadata": {},
   "outputs": [],
   "source": [
    "def plot_bootstrap_test(data, title):\n",
    "\n",
    "    borders = np.percentile(data, [2.5, 97.5]) # задаем ширину 95%-ного доверительного интервала\n",
    "    \n",
    "    ax = sns.histplot(data)\n",
    "    ax.set(xlabel=None, ylabel=None)\n",
    "    \n",
    "    plt.title(title, fontsize=12)\n",
    "    plt.rcParams[\"figure.figsize\"] = (10, 8)\n",
    "    \n",
    "    plt.axvline(0, # рисуем линию на уровне ноля\n",
    "               ymin=0, \n",
    "               ymax=0.5, \n",
    "               linestyle='--', \n",
    "               color='red')\n",
    "    \n",
    "    plt.axvline(borders[0], # рисуем линию в начале доверительного интервала \n",
    "               ymin=0, \n",
    "               ymax=0.5, \n",
    "               linestyle='--', \n",
    "               color='grey', \n",
    "               label='95%-доверительный интервал')\n",
    "    \n",
    "    plt.axvline(borders[1], # рисуем линию в конце доверительного интервала\n",
    "               ymin=0, \n",
    "               ymax=0.5, \n",
    "               linestyle='--', \n",
    "               color='grey')\n",
    "    \n",
    "    plt.legend(loc=\"upper right\")\n",
    "    \n",
    "    plt.show()"
   ]
  },
  {
   "cell_type": "markdown",
   "metadata": {
    "id": "VX-vFjvCbL1S"
   },
   "source": [
    "**4. Визуализируем результат по всем группам при помощи созданной функции.**"
   ]
  },
  {
   "cell_type": "code",
   "execution_count": null,
   "metadata": {},
   "outputs": [],
   "source": [
    "plot_bootstrap_test(data=boot,\n",
    "                    title='Bootstrap-распределение разниц среднего чека - общее')"
   ]
  },
  {
   "cell_type": "code",
   "execution_count": null,
   "metadata": {},
   "outputs": [],
   "source": [
    "plot_bootstrap_test(data=boot_pc,\n",
    "                    title='Bootstrap-распределение разниц среднего чека - pc')"
   ]
  },
  {
   "cell_type": "code",
   "execution_count": null,
   "metadata": {},
   "outputs": [],
   "source": [
    "plot_bootstrap_test(data=boot_mobile,\n",
    "                    title='Bootstrap-распределение разниц среднего чека - mobile')"
   ]
  },
  {
   "cell_type": "markdown",
   "metadata": {},
   "source": [
    "**5. Делаем вывод о том, есть ли статистически значимое изменение среднего чека в каждой группе.**\n",
    "\n",
    "Во всех трех случаях ноль не входит в доверительный интервал, значит есть статистически значимое изменение среднего чека. Во всех трех случаях средний чек увеличился."
   ]
  },
  {
   "cell_type": "markdown",
   "metadata": {
    "id": "feYlEGx_bL1S"
   },
   "source": [
    "## Задание 6. Вывод по результатам проведенного теста\n",
    "\n",
    "Эксперимент нельзя считать успешным, т.к. статистически значимого измененения в конверсии нет. Но при этом есть статистически значимое увеличение среднего чека.\n",
    "\n",
    "Т.к. есть ошибка в сплитовании (наблюдения неравномерно распределены на тестовую и контрольную группу в сегменте `platform`) и величина мощности недостаточна в тесте по группе `mobile`, эксперимент лучше повторить, исправив эти недостатки."
   ]
  }
 ],
 "metadata": {
  "colab": {
   "name": "Skills_Python_4.1_homework.ipynb",
   "provenance": []
  },
  "kernelspec": {
   "display_name": "Python 3 (ipykernel)",
   "language": "python",
   "name": "python3"
  },
  "language_info": {
   "codemirror_mode": {
    "name": "ipython",
    "version": 3
   },
   "file_extension": ".py",
   "mimetype": "text/x-python",
   "name": "python",
   "nbconvert_exporter": "python",
   "pygments_lexer": "ipython3",
   "version": "3.9.7"
  }
 },
 "nbformat": 4,
 "nbformat_minor": 1
}
